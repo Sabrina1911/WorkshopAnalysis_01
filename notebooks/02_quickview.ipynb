{
 "cells": [
  {
   "cell_type": "code",
   "execution_count": null,
   "id": "b18d1356",
   "metadata": {},
   "outputs": [],
   "source": [
    "\"\"\"\n",
    "#In this step, we connected our Jupyter Notebook to the **FARS Traffic Accident dataset** and explored the structure of the files.\n",
    "Data Loading and Initial Exploration\n",
    "-----------------------------------\n",
    "This cell:\n",
    "1. Loads accident, person, and vehicle datasets into pandas DataFrames.\n",
    "2. Prints shapes and initial columns for overview.\n",
    "3. Summarizes selected variables relevant to research question:\n",
    "   - FATALS (target variable)\n",
    "   - WEATHER\n",
    "   - LGT_COND (light condition)\n",
    "   - ROAD_FNC (road function)\n",
    "4. Displays the first 50 rows of accident dataset for inspection and Data Wrangler.\n",
    "\"\"\"\n",
    "\n",
    "import pandas as pd\n",
    "from pathlib import Path\n",
    "\n",
    "# Define data directory\n",
    "DATA_DIR = Path(\"..\") / \"data\"\n",
    "\n",
    "# Load datasets\n",
    "accident = pd.read_csv(DATA_DIR / \"accident.csv\")\n",
    "person   = pd.read_csv(DATA_DIR / \"person.csv\")\n",
    "vehicle  = pd.read_csv(DATA_DIR / \"vehicle.csv\")\n",
    "\n",
    "# Quick overview: dataset shapes and sample columns\n",
    "print(\"Shapes -> accident:\", accident.shape,\n",
    "      \"| person:\", person.shape,\n",
    "      \"| vehicle:\", vehicle.shape)\n",
    "\n",
    "print(\"\\nColumns in accident table:\", accident.columns[:10].tolist(), \"...\")\n",
    "\n",
    "# Summarize target + key predictors\n",
    "summary = {\n",
    "    \"Fatalities\": accident[\"FATALS\"].value_counts(),\n",
    "    \"Weather\": accident[\"WEATHER\"].value_counts().head(),\n",
    "    \"Light Condition\": accident[\"LGT_COND\"].value_counts().head(),\n",
    "    \"Road Function\": accident[\"ROAD_FNC\"].value_counts().head()\n",
    "}\n",
    "\n",
    "for key, val in summary.items():\n",
    "    print(f\"\\n--- {key} ---\")\n",
    "    print(val)\n",
    "\n",
    "# Display sample rows (triggers Data Wrangler in VS Code)\n",
    "accident.head(50)\n",
    "\n"
   ]
  }
 ],
 "metadata": {
  "language_info": {
   "name": "python"
  }
 },
 "nbformat": 4,
 "nbformat_minor": 5
}
